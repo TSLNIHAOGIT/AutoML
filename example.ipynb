{
 "cells": [
  {
   "cell_type": "code",
   "execution_count": 1,
   "metadata": {
    "collapsed": true
   },
   "outputs": [],
   "source": [
    "# pandas and numpy for data manipulation\n",
    "import pandas as pd\n",
    "import numpy as np\n",
    "\n",
    "# featuretools for automated feature engineering\n",
    "import featuretools as ft\n",
    "\n",
    "# ignore warnings from pandas\n",
    "import warnings\n",
    "warnings.filterwarnings('ignore')"
   ]
  },
  {
   "cell_type": "code",
   "execution_count": 3,
   "metadata": {},
   "outputs": [],
   "source": [
    "# Read in the data\n",
    "clients = pd.read_csv('clients.csv', parse_dates = ['joined'])\n",
    "loans = pd.read_csv('loans.csv', parse_dates = ['loan_start', 'loan_end'])\n",
    "payments = pd.read_csv('payments.csv', parse_dates = ['payment_date'])"
   ]
  },
  {
   "cell_type": "code",
   "execution_count": 6,
   "metadata": {},
   "outputs": [
    {
     "name": "stdout",
     "output_type": "stream",
     "text": [
      "   client_id     joined  income  credit_score\n0      46109 2002-04-16  172677           527\n1      49545 2007-11-14  104564           770\n2      41480 2013-03-11  122607           585\n3      46180 2001-11-06   43851           562\n4      25707 2006-10-06  211422           621"
     ]
    },
    {
     "name": "stdout",
     "output_type": "stream",
     "text": [
      "\n"
     ]
    }
   ],
   "source": [
    "print(clients.head())"
   ]
  },
  {
   "cell_type": "code",
   "execution_count": 8,
   "metadata": {},
   "outputs": [
    {
     "name": "stdout",
     "output_type": "stream",
     "text": [
      "     client_id loan_type  loan_amount  repaid  loan_id loan_start   loan_end  \\\n27       49545    credit         4458       1    10192 2013-02-11 2014-09-11   \n62       46180      cash        14007       1    10416 2003-12-05 2005-05-14   \n127      32726     other         5325       1    10858 2014-04-02 2016-10-30   \n13       46109    credit         3524       0    11867 2005-09-18 2007-08-27   \n231      32961      home         4964       0    11631 2004-08-22 2006-06-02   \n99       25707    credit         6371       0    11942 2011-01-15 2013-02-21   \n327      44387     other         6562       1    10862 2002-12-22 2005-01-18   \n178      48177    credit        12216       0    10697 2007-05-07 2009-07-25   \n59       41480    credit          811       0    11430 2009-08-02 2012-01-04   \n434      26945    credit         3510       0    10196 2002-07-14 2004-08-10   \n\n     rate  \n27   3.60  \n62   3.95  \n127  2.83  \n13   5.98  \n231  4.17  \n99   6.02  \n327  0.89  \n178  5.85  \n59   0.43  \n434  3.19  "
     ]
    },
    {
     "name": "stdout",
     "output_type": "stream",
     "text": [
      "\n"
     ]
    }
   ],
   "source": [
    "print(loans.sample(10))"
   ]
  },
  {
   "cell_type": "code",
   "execution_count": 9,
   "metadata": {},
   "outputs": [
    {
     "name": "stdout",
     "output_type": "stream",
     "text": [
      "      loan_id  payment_amount payment_date  missed\n3154    11733             758   2010-09-27       0\n1169    11731              77   2008-01-15       0\n528     11672             383   2013-06-09       1\n466     11026            1590   2014-06-04       1\n1059    11287            2370   2007-03-20       1\n646     10562            1167   2001-07-16       1\n2017    10694            1233   2006-12-29       0\n2182    11602            1611   2007-05-25       1\n2790    10427            1483   2007-11-04       1\n3337    11482            1834   2014-05-01       0"
     ]
    },
    {
     "name": "stdout",
     "output_type": "stream",
     "text": [
      "\n"
     ]
    }
   ],
   "source": [
    "print(payments.sample(10))"
   ]
  },
  {
   "cell_type": "code",
   "execution_count": 38,
   "metadata": {},
   "outputs": [
    {
     "name": "stdout",
     "output_type": "stream",
     "text": [
      "   client_id     joined  income  credit_score  join_month  log_income\n0      46109 2002-04-16  172677           527           4   12.059178\n1      49545 2007-11-14  104564           770          11   11.557555\n2      41480 2013-03-11  122607           585           3   11.716739\n3      46180 2001-11-06   43851           562          11   10.688553\n4      25707 2006-10-06  211422           621          10   12.261611"
     ]
    },
    {
     "name": "stdout",
     "output_type": "stream",
     "text": [
      "\n"
     ]
    }
   ],
   "source": [
    "#Manual Feature Engineering Examples\n",
    "# Create a month column\n",
    "clients['join_month'] = clients['joined'].dt.month\n",
    "\n",
    "# Create a log of income column\n",
    "clients['log_income'] = np.log(clients['income'])\n",
    "\n",
    "print(clients.head())"
   ]
  },
  {
   "cell_type": "code",
   "execution_count": 44,
   "metadata": {},
   "outputs": [
    {
     "name": "stdout",
     "output_type": "stream",
     "text": [
      "           mean_loan_amount  max_loan_amount  min_loan_amount\nclient_id                                                    \n25707           7963.950000            13913             1212\n26326           7270.062500            13464             1164\n26695           7824.722222            14865             2389\n26945           7125.933333            14593              653\n29841           9813.000000            14837             2778"
     ]
    },
    {
     "name": "stdout",
     "output_type": "stream",
     "text": [
      "\n"
     ]
    }
   ],
   "source": [
    " #Groupby client id and calculate mean, max, min previous loan size\n",
    "stats = loans.groupby('client_id')['loan_amount'].agg(['mean', 'max', 'min'])\n",
    "stats.columns = ['mean_loan_amount', 'max_loan_amount', 'min_loan_amount']\n",
    "print(stats.sort_values('client_id').head())"
   ]
  },
  {
   "cell_type": "code",
   "execution_count": 49,
   "metadata": {},
   "outputs": [
    {
     "name": "stdout",
     "output_type": "stream",
     "text": [
      "    client_id     joined  income  credit_score  join_month  log_income  \\\n4       25707 2006-10-06  211422           621          10   12.261611   \n10      26326 2004-05-06  227920           633           5   12.336750   \n19      26695 2004-08-27  174532           680           8   12.069863   \n24      26945 2000-11-26  214516           806          11   12.276140   \n13      29841 2002-08-17   38354           523           8   10.554614   \n6       32726 2006-05-01  235705           730           5   12.370336   \n15      32885 2002-05-13   58955           642           5   10.984530   \n12      32961 2009-04-07  230341           714           4   12.347316   \n7       35089 2010-03-01  131176           771           3   11.784295   \n8       35214 2003-08-08   95849           696           8   11.470529   \n\n    mean_loan_amount  max_loan_amount  min_loan_amount  \n4        7963.950000            13913             1212  \n10       7270.062500            13464             1164  \n19       7824.722222            14865             2389  \n24       7125.933333            14593              653  \n13       9813.000000            14837             2778  \n6        6633.263158            14802              851  \n15       9920.400000            14162             3704  \n12       7882.235294            14784             1693  \n7        6939.200000            13194              773  \n8        7173.555556            14767              667  "
     ]
    },
    {
     "name": "stdout",
     "output_type": "stream",
     "text": [
      "\n"
     ]
    }
   ],
   "source": [
    "# Merge with the clients dataframe\n",
    "dff=clients.merge(stats, left_on = 'client_id', right_index=True, how = 'left')\n",
    "print(dff.sort_values('client_id').head(10))"
   ]
  },
  {
   "cell_type": "code",
   "execution_count": 10,
   "metadata": {},
   "outputs": [],
   "source": [
    "es = ft.EntitySet(id = 'clients')"
   ]
  },
  {
   "cell_type": "code",
   "execution_count": 12,
   "metadata": {},
   "outputs": [],
   "source": [
    "# Create an entity from the client dataframe\n",
    "# This dataframe already has an index and a time index\n",
    "es = es.entity_from_dataframe(entity_id = 'clients', dataframe = clients, \n",
    "                              index = 'client_id', time_index = 'joined')"
   ]
  },
  {
   "cell_type": "code",
   "execution_count": 13,
   "metadata": {},
   "outputs": [],
   "source": [
    "# Create an entity from the loans dataframe\n",
    "# This dataframe already has an index and a time index\n",
    "es = es.entity_from_dataframe(entity_id = 'loans', dataframe = loans, \n",
    "                              variable_types = {'repaid': ft.variable_types.Categorical},\n",
    "                              index = 'loan_id', \n",
    "                              time_index = 'loan_start')"
   ]
  },
  {
   "cell_type": "code",
   "execution_count": 14,
   "metadata": {},
   "outputs": [],
   "source": [
    "# Create an entity from the payments dataframe\n",
    "# This does not yet have a unique index\n",
    "es = es.entity_from_dataframe(entity_id = 'payments', \n",
    "                              dataframe = payments,\n",
    "                              variable_types = {'missed': ft.variable_types.Categorical},\n",
    "                              make_index = True,\n",
    "                              index = 'payment_id',\n",
    "                              time_index = 'payment_date')"
   ]
  },
  {
   "cell_type": "code",
   "execution_count": 15,
   "metadata": {},
   "outputs": [
    {
     "data": {
      "text/plain": [
       "Entityset: clients\n  Entities:\n    clients [Rows: 25, Columns: 4]\n    loans [Rows: 443, Columns: 8]\n    payments [Rows: 3456, Columns: 5]\n  Relationships:\n    No relationships"
      ]
     },
     "execution_count": 15,
     "metadata": {},
     "output_type": "execute_result"
    }
   ],
   "source": [
    "es"
   ]
  },
  {
   "cell_type": "code",
   "execution_count": 16,
   "metadata": {},
   "outputs": [
    {
     "data": {
      "text/plain": [
       "Entity: loans\n  Variables:\n    loan_id (dtype: index)\n    client_id (dtype: numeric)\n    loan_type (dtype: categorical)\n    loan_amount (dtype: numeric)\n    loan_start (dtype: datetime_time_index)\n    loan_end (dtype: datetime)\n    rate (dtype: numeric)\n    repaid (dtype: categorical)\n  Shape:\n    (Rows: 443, Columns: 8)"
      ]
     },
     "execution_count": 16,
     "metadata": {},
     "output_type": "execute_result"
    }
   ],
   "source": [
    "es['loans']"
   ]
  },
  {
   "cell_type": "code",
   "execution_count": 17,
   "metadata": {},
   "outputs": [
    {
     "data": {
      "text/plain": [
       "Entity: payments\n  Variables:\n    payment_id (dtype: index)\n    loan_id (dtype: numeric)\n    payment_amount (dtype: numeric)\n    payment_date (dtype: datetime_time_index)\n    missed (dtype: categorical)\n  Shape:\n    (Rows: 3456, Columns: 5)"
      ]
     },
     "execution_count": 17,
     "metadata": {},
     "output_type": "execute_result"
    }
   ],
   "source": [
    "es['payments']"
   ]
  },
  {
   "cell_type": "code",
   "execution_count": 18,
   "metadata": {},
   "outputs": [],
   "source": [
    "# Relationship between clients and previous loans\n",
    "#ft.Relationship(parent_variable, child_variable)\n",
    "r_client_previous = ft.Relationship(es['clients']['client_id'],\n",
    "                                    es['loans']['client_id'])\n",
    "\n",
    "# Add the relationship to the entity set\n",
    "es = es.add_relationship(r_client_previous)"
   ]
  },
  {
   "cell_type": "code",
   "execution_count": 19,
   "metadata": {},
   "outputs": [
    {
     "data": {
      "text/plain": [
       "Entityset: clients\n  Entities:\n    clients [Rows: 25, Columns: 4]\n    loans [Rows: 443, Columns: 8]\n    payments [Rows: 3456, Columns: 5]\n  Relationships:\n    loans.client_id -> clients.client_id\n    payments.loan_id -> loans.loan_id"
      ]
     },
     "execution_count": 19,
     "metadata": {},
     "output_type": "execute_result"
    }
   ],
   "source": [
    "# Relationship between previous loans and previous payments\n",
    "r_payments = ft.Relationship(es['loans']['loan_id'],\n",
    "                                      es['payments']['loan_id'])\n",
    "\n",
    "# Add the relationship to the entity set\n",
    "es = es.add_relationship(r_payments)\n",
    "\n",
    "es"
   ]
  },
  {
   "cell_type": "code",
   "execution_count": 21,
   "metadata": {},
   "outputs": [
    {
     "name": "stdout",
     "output_type": "stream",
     "text": [
      "               name         type  \\\n0     n_most_common  aggregation   \n1          num_true  aggregation   \n2  time_since_first  aggregation   \n3        num_unique  aggregation   \n4               sum  aggregation   \n5               all  aggregation   \n6             trend  aggregation   \n7               std  aggregation   \n8               max  aggregation   \n9               min  aggregation   \n\n                                                           description  \n0                             Determines the `n` most common elements.  \n1                                  Counts the number of `True` values.  \n2   Calculates the time elapsed since the first datetime (in seconds).  \n3     Determines the number of distinct values, ignoring `NaN` values.  \n4                       Calculates the total addition, ignoring `NaN`.  \n5                       Calculates if all values are 'True' in a list.  \n6                        Calculates the trend of a variable over time.  \n7  Computes the dispersion relative to the mean value, ignoring `NaN`.  \n8                 Calculates the highest value, ignoring `NaN` values.  \n9                Calculates the smallest value, ignoring `NaN` values.  "
     ]
    },
    {
     "name": "stdout",
     "output_type": "stream",
     "text": [
      "\n"
     ]
    }
   ],
   "source": [
    "primitives = ft.list_primitives()\n",
    "pd.options.display.max_colwidth = 100\n",
    "print(primitives[primitives['type'] == 'aggregation'].head(10))"
   ]
  },
  {
   "cell_type": "code",
   "execution_count": 22,
   "metadata": {
    "collapsed": true
   },
   "outputs": [
    {
     "name": "stdout",
     "output_type": "stream",
     "text": [
      "                       name       type  \\\n20    greater_than_equal_to  transform   \n21                   negate  transform   \n22                     hour  transform   \n23      time_since_previous  transform   \n24        divide_by_feature  transform   \n25                     isin  transform   \n26                  cum_sum  transform   \n27  subtract_numeric_scalar  transform   \n28      greater_than_scalar  transform   \n29               time_since  transform   \n\n                                                                    description  \n20  Determines if values in one list are greater than or equal to another list.  \n21                                                     Negates a numeric value.  \n22                                     Determines the hour value of a datetime.  \n23         Compute the time in seconds since the previous instance of an entry.  \n24                                   Divide a scalar by each value in the list.  \n25                    Determines whether a value is present in a provided list.  \n26                                               Calculates the cumulative sum.  \n27                             Subtract a scalar from each element in the list.  \n28                        Determines if values are greater than a given scalar.  \n29  Calculates time in nanoseconds from a value to a specified cutoff datetime.  "
     ]
    },
    {
     "name": "stdout",
     "output_type": "stream",
     "text": [
      "\n"
     ]
    }
   ],
   "source": [
    "print(primitives[primitives['type'] == 'transform'].head(10))"
   ]
  },
  {
   "cell_type": "code",
   "execution_count": 25,
   "metadata": {},
   "outputs": [],
   "source": [
    "features, feature_names = ft.dfs(entityset = es, target_entity = 'clients', \n",
    "                                 agg_primitives = ['mean', 'max', 'percent_true', 'last'],\n",
    "                                 trans_primitives = [ 'month'])"
   ]
  },
  {
   "cell_type": "code",
   "execution_count": 52,
   "metadata": {},
   "outputs": [],
   "source": [
    "#print(features[0:10], feature_names[0:10])"
   ]
  },
  {
   "cell_type": "code",
   "execution_count": 31,
   "metadata": {},
   "outputs": [
    {
     "name": "stdout",
     "output_type": "stream",
     "text": [
      "           MONTH(joined)\nclient_id               \n25707                 10\n26326                  5\n26695                  8\n26945                 11\n29841                  8"
     ]
    },
    {
     "name": "stdout",
     "output_type": "stream",
     "text": [
      "\n"
     ]
    }
   ],
   "source": [
    "df=pd.DataFrame(features['MONTH(joined)'].head())\n",
    "print(df)"
   ]
  },
  {
   "cell_type": "code",
   "execution_count": 32,
   "metadata": {},
   "outputs": [
    {
     "name": "stdout",
     "output_type": "stream",
     "text": [
      "           MEAN(loans.loan_amount)\nclient_id                         \n25707                  7963.950000\n26326                  7270.062500\n26695                  7824.722222\n26945                  7125.933333\n29841                  9813.000000\n32726                  6633.263158\n32885                  9920.400000\n32961                  7882.235294\n35089                  6939.200000\n35214                  7173.555556"
     ]
    },
    {
     "name": "stdout",
     "output_type": "stream",
     "text": [
      "\n"
     ]
    }
   ],
   "source": [
    "# Show a feature with a depth of 1\n",
    "df2=pd.DataFrame(features['MEAN(loans.loan_amount)'].head(10))\n",
    "print(df2)"
   ]
  },
  {
   "cell_type": "code",
   "execution_count": 33,
   "metadata": {},
   "outputs": [
    {
     "name": "stdout",
     "output_type": "stream",
     "text": [
      "           LAST(loans.MEAN(payments.payment_amount))\nclient_id                                           \n25707                                     293.500000\n26326                                     977.375000\n26695                                    1769.166667\n26945                                    1598.666667\n29841                                    1125.500000\n32726                                     799.500000\n32885                                    1729.000000\n32961                                     282.600000\n35089                                     110.400000\n35214                                    1410.250000"
     ]
    },
    {
     "name": "stdout",
     "output_type": "stream",
     "text": [
      "\n"
     ]
    }
   ],
   "source": [
    "# Show a feature with a depth of 2\n",
    "df3=pd.DataFrame(features['LAST(loans.MEAN(payments.payment_amount))'].head(10))\n",
    "print(df3)"
   ]
  },
  {
   "cell_type": "code",
   "execution_count": 34,
   "metadata": {},
   "outputs": [],
   "source": [
    "# Perform deep feature synthesis without specifying primitives;不指定时使用所有特征基元（所有类型的转换和聚合操作）\n",
    "features, feature_names = ft.dfs(entityset=es, target_entity='clients', \n",
    "                                 max_depth = 2)"
   ]
  },
  {
   "cell_type": "code",
   "execution_count": 36,
   "metadata": {},
   "outputs": [
    {
     "name": "stdout",
     "output_type": "stream",
     "text": [
      "           STD(loans.loan_amount)  STD(loans.rate)  MAX(loans.loan_amount)  \\\nclient_id                                                                    \n25707                 4149.486062         2.484186                   13913   \n26326                 4393.666631         2.057142                   13464   \n26695                 4196.462499         1.561659                   14865   \n26945                 4543.621769         1.619717                   14593   \n29841                 4209.224171         2.122904                   14837   \n\n           MAX(loans.rate)  SKEW(loans.loan_amount)  SKEW(loans.rate)  \\\nclient_id                                                               \n25707                 9.44                -0.186352          0.735470   \n26326                 6.73                 0.149658          1.181651   \n26695                 6.51                 0.168879          0.896574   \n26945                 5.65                 0.174492         -0.002227   \n29841                 6.76                -0.232215          0.055321   \n\n           MIN(loans.loan_amount)  MIN(loans.rate)  MEAN(loans.loan_amount)  \\\nclient_id                                                                     \n25707                        1212             0.33              7963.950000   \n26326                        1164             0.50              7270.062500   \n26695                        2389             0.22              7824.722222   \n26945                         653             0.13              7125.933333   \n29841                        2778             0.26              9813.000000   \n\n           MEAN(loans.rate)  ...  NUM_UNIQUE(loans.WEEKDAY(loan_end))  \\\nclient_id                    ...                                        \n25707              3.477000  ...                                    6   \n26326              2.517500  ...                                    5   \n26695              2.466111  ...                                    6   \n26945              2.855333  ...                                    6   \n29841              3.445000  ...                                    7   \n\n           MODE(loans.MODE(payments.missed))  MODE(loans.DAY(loan_start))  \\\nclient_id                                                                   \n25707                                      0                           27   \n26326                                      0                            6   \n26695                                      0                            3   \n26945                                      0                           16   \n29841                                      1                            1   \n\n          MODE(loans.DAY(loan_end))  MODE(loans.YEAR(loan_start))  \\\nclient_id                                                           \n25707                             1                          2010   \n26326                             6                          2003   \n26695                            14                          2003   \n26945                             1                          2002   \n29841                            15                          2005   \n\n           MODE(loans.YEAR(loan_end))  MODE(loans.MONTH(loan_start))  \\\nclient_id                                                              \n25707                            2007                              1   \n26326                            2005                              4   \n26695                            2005                              9   \n26945                            2004                             12   \n29841                            2007                              3   \n\n           MODE(loans.MONTH(loan_end))  MODE(loans.WEEKDAY(loan_start))  \\\nclient_id                                                                 \n25707                                8                                3   \n26326                                7                                5   \n26695                                4                                1   \n26945                                5                                0   \n29841                                2                                5   \n\n           MODE(loans.WEEKDAY(loan_end))  \nclient_id                                 \n25707                                  0  \n26326                                  2  \n26695                                  1  \n26945                                  1  \n29841                                  1  \n\n[5 rows x 88 columns]"
     ]
    },
    {
     "name": "stdout",
     "output_type": "stream",
     "text": [
      "\n"
     ]
    }
   ],
   "source": [
    "print(features.iloc[:, 4:].head())"
   ]
  },
  {
   "cell_type": "code",
   "execution_count": null,
   "metadata": {},
   "outputs": [],
   "source": []
  }
 ],
 "metadata": {
  "kernelspec": {
   "display_name": "Python 2",
   "language": "python",
   "name": "python2"
  },
  "language_info": {
   "codemirror_mode": {
    "name": "ipython",
    "version": 2
   },
   "file_extension": ".py",
   "mimetype": "text/x-python",
   "name": "python",
   "nbconvert_exporter": "python",
   "pygments_lexer": "ipython2",
   "version": "2.7.6"
  }
 },
 "nbformat": 4,
 "nbformat_minor": 0
}
